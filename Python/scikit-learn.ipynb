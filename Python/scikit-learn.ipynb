{
 "metadata": {
  "language_info": {
   "codemirror_mode": {
    "name": "ipython",
    "version": 3
   },
   "file_extension": ".py",
   "mimetype": "text/x-python",
   "name": "python",
   "nbconvert_exporter": "python",
   "pygments_lexer": "ipython3",
   "version": "3.7.6-final"
  },
  "orig_nbformat": 2,
  "kernelspec": {
   "name": "python37664bitconda824f0288775e4df296e3385da7ed899e",
   "display_name": "Python 3.7.6 64-bit (conda)"
  }
 },
 "nbformat": 4,
 "nbformat_minor": 2,
 "cells": [
  {
   "cell_type": "code",
   "execution_count": 4,
   "metadata": {},
   "outputs": [],
   "source": [
    "import pandas as pd"
   ]
  },
  {
   "cell_type": "code",
   "execution_count": 5,
   "metadata": {},
   "outputs": [
    {
     "output_type": "execute_result",
     "data": {
      "text/plain": "(300000, 16)"
     },
     "metadata": {},
     "execution_count": 5
    }
   ],
   "source": [
    "delays_df = pd.read_csv('csvData/Lots_of_flight_data.csv')\n",
    "delays_df.shape"
   ]
  },
  {
   "cell_type": "code",
   "execution_count": 8,
   "metadata": {},
   "outputs": [
    {
     "output_type": "execute_result",
     "data": {
      "text/plain": "<bound method NDFrame.tail of         DISTANCE  CRS_ELAPSED_TIME\n0           1670               225\n1           1670               225\n2            580               105\n3            580               105\n4            580               100\n...          ...               ...\n299995       386                87\n299996       386                92\n299997       221                71\n299998       221                81\n299999       240                66\n\n[300000 rows x 2 columns]>"
     },
     "metadata": {},
     "execution_count": 8
    }
   ],
   "source": [
    "X = delays_df.loc[:,['DISTANCE', 'CRS_ELAPSED_TIME']]\n",
    "X.tail"
   ]
  },
  {
   "cell_type": "code",
   "execution_count": 9,
   "metadata": {},
   "outputs": [
    {
     "output_type": "execute_result",
     "data": {
      "text/plain": "<bound method NDFrame.tail of         ARR_DELAY\n0           -17.0\n1           -25.0\n2           -13.0\n3           -12.0\n4            -7.0\n...           ...\n299995       -7.0\n299996      -13.0\n299997       -2.0\n299998      -13.0\n299999        6.0\n\n[300000 rows x 1 columns]>"
     },
     "metadata": {},
     "execution_count": 9
    }
   ],
   "source": [
    "Y = delays_df.loc[:, ['ARR_DELAY']]\n",
    "# Y.head()\n",
    "Y.tail"
   ]
  },
  {
   "cell_type": "code",
   "execution_count": 7,
   "metadata": {},
   "outputs": [],
   "source": [
    "from sklearn.model_selection import train_test_split\n",
    "\n",
    "X_train, X_test, y_train, y_test = train_test_split(\n",
    "                                                    X,\n",
    "                                                    Y,\n",
    "                                                    test_size=0.3,\n",
    "                                                    random_state=42\n",
    "                                                    )"
   ]
  },
  {
   "cell_type": "code",
   "execution_count": 9,
   "metadata": {},
   "outputs": [
    {
     "output_type": "execute_result",
     "data": {
      "text/plain": "(210000, 2)"
     },
     "metadata": {},
     "execution_count": 9
    }
   ],
   "source": [
    "X_train.shape"
   ]
  },
  {
   "cell_type": "code",
   "execution_count": 10,
   "metadata": {},
   "outputs": [
    {
     "output_type": "execute_result",
     "data": {
      "text/plain": "(90000, 2)"
     },
     "metadata": {},
     "execution_count": 10
    }
   ],
   "source": [
    "X_test.shape"
   ]
  },
  {
   "cell_type": "code",
   "execution_count": 11,
   "metadata": {},
   "outputs": [
    {
     "output_type": "execute_result",
     "data": {
      "text/plain": "        DISTANCE  CRS_ELAPSED_TIME\n186295       237                60\n127847       411               111\n274740       342                85\n74908       1005               164\n11630        484               100",
      "text/html": "<div>\n<style scoped>\n    .dataframe tbody tr th:only-of-type {\n        vertical-align: middle;\n    }\n\n    .dataframe tbody tr th {\n        vertical-align: top;\n    }\n\n    .dataframe thead th {\n        text-align: right;\n    }\n</style>\n<table border=\"1\" class=\"dataframe\">\n  <thead>\n    <tr style=\"text-align: right;\">\n      <th></th>\n      <th>DISTANCE</th>\n      <th>CRS_ELAPSED_TIME</th>\n    </tr>\n  </thead>\n  <tbody>\n    <tr>\n      <th>186295</th>\n      <td>237</td>\n      <td>60</td>\n    </tr>\n    <tr>\n      <th>127847</th>\n      <td>411</td>\n      <td>111</td>\n    </tr>\n    <tr>\n      <th>274740</th>\n      <td>342</td>\n      <td>85</td>\n    </tr>\n    <tr>\n      <th>74908</th>\n      <td>1005</td>\n      <td>164</td>\n    </tr>\n    <tr>\n      <th>11630</th>\n      <td>484</td>\n      <td>100</td>\n    </tr>\n  </tbody>\n</table>\n</div>"
     },
     "metadata": {},
     "execution_count": 11
    }
   ],
   "source": [
    "X_train.head()"
   ]
  },
  {
   "cell_type": "code",
   "execution_count": 13,
   "metadata": {},
   "outputs": [
    {
     "output_type": "execute_result",
     "data": {
      "text/plain": "        ARR_DELAY\n186295       -7.0\n127847      -16.0\n274740      -10.0\n74908       -19.0\n11630       -13.0",
      "text/html": "<div>\n<style scoped>\n    .dataframe tbody tr th:only-of-type {\n        vertical-align: middle;\n    }\n\n    .dataframe tbody tr th {\n        vertical-align: top;\n    }\n\n    .dataframe thead th {\n        text-align: right;\n    }\n</style>\n<table border=\"1\" class=\"dataframe\">\n  <thead>\n    <tr style=\"text-align: right;\">\n      <th></th>\n      <th>ARR_DELAY</th>\n    </tr>\n  </thead>\n  <tbody>\n    <tr>\n      <th>186295</th>\n      <td>-7.0</td>\n    </tr>\n    <tr>\n      <th>127847</th>\n      <td>-16.0</td>\n    </tr>\n    <tr>\n      <th>274740</th>\n      <td>-10.0</td>\n    </tr>\n    <tr>\n      <th>74908</th>\n      <td>-19.0</td>\n    </tr>\n    <tr>\n      <th>11630</th>\n      <td>-13.0</td>\n    </tr>\n  </tbody>\n</table>\n</div>"
     },
     "metadata": {},
     "execution_count": 13
    }
   ],
   "source": [
    "y_train.head()"
   ]
  },
  {
   "cell_type": "code",
   "execution_count": 14,
   "metadata": {},
   "outputs": [
    {
     "output_type": "execute_result",
     "data": {
      "text/plain": "        DISTANCE  CRS_ELAPSED_TIME\n186295       237                60\n127847       411               111\n274740       342                85\n74908       1005               164\n11630        484               100",
      "text/html": "<div>\n<style scoped>\n    .dataframe tbody tr th:only-of-type {\n        vertical-align: middle;\n    }\n\n    .dataframe tbody tr th {\n        vertical-align: top;\n    }\n\n    .dataframe thead th {\n        text-align: right;\n    }\n</style>\n<table border=\"1\" class=\"dataframe\">\n  <thead>\n    <tr style=\"text-align: right;\">\n      <th></th>\n      <th>DISTANCE</th>\n      <th>CRS_ELAPSED_TIME</th>\n    </tr>\n  </thead>\n  <tbody>\n    <tr>\n      <th>186295</th>\n      <td>237</td>\n      <td>60</td>\n    </tr>\n    <tr>\n      <th>127847</th>\n      <td>411</td>\n      <td>111</td>\n    </tr>\n    <tr>\n      <th>274740</th>\n      <td>342</td>\n      <td>85</td>\n    </tr>\n    <tr>\n      <th>74908</th>\n      <td>1005</td>\n      <td>164</td>\n    </tr>\n    <tr>\n      <th>11630</th>\n      <td>484</td>\n      <td>100</td>\n    </tr>\n  </tbody>\n</table>\n</div>"
     },
     "metadata": {},
     "execution_count": 14
    }
   ],
   "source": [
    "X_train.head()"
   ]
  }
 ]
}